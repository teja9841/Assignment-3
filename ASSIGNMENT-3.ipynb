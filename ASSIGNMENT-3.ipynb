{
 "cells": [
  {
   "cell_type": "markdown",
   "id": "92a8f485",
   "metadata": {},
   "source": [
    "# 1) Write a Python program that prints all the numbers from 0 to 6 except 3 and 6"
   ]
  },
  {
   "cell_type": "markdown",
   "id": "554d9a4f",
   "metadata": {},
   "source": [
    "For Loop"
   ]
  },
  {
   "cell_type": "code",
   "execution_count": 3,
   "id": "a2849503",
   "metadata": {},
   "outputs": [
    {
     "name": "stdout",
     "output_type": "stream",
     "text": [
      "0\n",
      "1\n",
      "2\n",
      "4\n",
      "5\n"
     ]
    }
   ],
   "source": [
    "for num in range(0,7):\n",
    "    if num==3 or num==6:\n",
    "        continue\n",
    "    print(num)"
   ]
  },
  {
   "cell_type": "markdown",
   "id": "7bf6b8aa",
   "metadata": {},
   "source": [
    "While Loop"
   ]
  },
  {
   "cell_type": "code",
   "execution_count": 4,
   "id": "f514bcce",
   "metadata": {},
   "outputs": [
    {
     "name": "stdout",
     "output_type": "stream",
     "text": [
      "0\n",
      "1\n",
      "2\n",
      "4\n",
      "5\n"
     ]
    }
   ],
   "source": [
    "x=True\n",
    "while x:\n",
    "    for num in range(0,7):\n",
    "        if num==3 or num==6:\n",
    "            continue\n",
    "        print(num)\n",
    "        x=False"
   ]
  },
  {
   "cell_type": "markdown",
   "id": "3da6ba29",
   "metadata": {},
   "source": [
    "# 2) Write a program to accept a number from a user and calculate the sum of all numbers from 1 to a given number\n"
   ]
  },
  {
   "cell_type": "markdown",
   "id": "094705ee",
   "metadata": {},
   "source": [
    "For Loop"
   ]
  },
  {
   "cell_type": "code",
   "execution_count": 4,
   "id": "b4adfbe7",
   "metadata": {},
   "outputs": [
    {
     "name": "stdout",
     "output_type": "stream",
     "text": [
      "Please provide any number here : 10\n",
      "Total = 55\n"
     ]
    }
   ],
   "source": [
    "num=int(input(\"Please provide any number here : \"))\n",
    "total=0\n",
    "for i in range(0,num+1):\n",
    "    total+=i\n",
    "print(\"Total = {}\".format(total))"
   ]
  },
  {
   "cell_type": "markdown",
   "id": "7f601b2a",
   "metadata": {},
   "source": [
    "While Loop"
   ]
  },
  {
   "cell_type": "code",
   "execution_count": 6,
   "id": "fbd1ecb0",
   "metadata": {},
   "outputs": [
    {
     "name": "stdout",
     "output_type": "stream",
     "text": [
      "Please provide any number here : 10\n",
      "Total = 55\n"
     ]
    }
   ],
   "source": [
    "num=int(input(\"Please provide any number here : \"))\n",
    "total=0\n",
    "x=True\n",
    "while x:\n",
    "    for i in range(0,num+1):\n",
    "        total+=i\n",
    "    print(\"Total = {}\".format(total))\n",
    "    x=False"
   ]
  },
  {
   "cell_type": "markdown",
   "id": "96bb8cab",
   "metadata": {},
   "source": [
    "# 3) Write a program to print multiplication table of a given number(input)\n"
   ]
  },
  {
   "cell_type": "markdown",
   "id": "ffbcf5df",
   "metadata": {},
   "source": [
    "For Loop"
   ]
  },
  {
   "cell_type": "code",
   "execution_count": 6,
   "id": "1da5ca6b",
   "metadata": {},
   "outputs": [
    {
     "name": "stdout",
     "output_type": "stream",
     "text": [
      "Please provide any number here : 2\n",
      "2 x 1 = 2\n",
      "2 x 2 = 4\n",
      "2 x 3 = 6\n",
      "2 x 4 = 8\n",
      "2 x 5 = 10\n",
      "2 x 6 = 12\n",
      "2 x 7 = 14\n",
      "2 x 8 = 16\n",
      "2 x 9 = 18\n",
      "2 x 10 = 20\n"
     ]
    }
   ],
   "source": [
    "num=int(input(\"Please provide any number here : \"))\n",
    "for i in range(1,11):\n",
    "    print(\"{} x {} = {}\".format(num,i,num*i))"
   ]
  },
  {
   "cell_type": "markdown",
   "id": "ab4b6178",
   "metadata": {},
   "source": [
    "While Loop"
   ]
  },
  {
   "cell_type": "code",
   "execution_count": 7,
   "id": "669b4a1d",
   "metadata": {},
   "outputs": [
    {
     "name": "stdout",
     "output_type": "stream",
     "text": [
      "Please provide any number here : 3\n",
      "3 x 1 = 3\n",
      "3 x 2 = 6\n",
      "3 x 3 = 9\n",
      "3 x 4 = 12\n",
      "3 x 5 = 15\n",
      "3 x 6 = 18\n",
      "3 x 7 = 21\n",
      "3 x 8 = 24\n",
      "3 x 9 = 27\n",
      "3 x 10 = 30\n"
     ]
    }
   ],
   "source": [
    "num=int(input(\"Please provide any number here : \"))\n",
    "x=True\n",
    "while x:\n",
    "    for i in range(1,11):\n",
    "        print(\"{} x {} = {}\".format(num,i,num*i))\n",
    "        x=False"
   ]
  },
  {
   "cell_type": "markdown",
   "id": "64c8e300",
   "metadata": {},
   "source": [
    "# 4) Write a program to count the total number of digits in a number using a while loop. "
   ]
  },
  {
   "cell_type": "markdown",
   "id": "ca229fd2",
   "metadata": {},
   "source": [
    "While Loop"
   ]
  },
  {
   "cell_type": "code",
   "execution_count": 3,
   "id": "f6b17c94",
   "metadata": {},
   "outputs": [
    {
     "name": "stdout",
     "output_type": "stream",
     "text": [
      "Please provide any number here : 75869\n",
      "Length of 75869 is : 5\n"
     ]
    }
   ],
   "source": [
    "num=input(\"Please provide any number here : \")\n",
    "x=True\n",
    "a=0\n",
    "while x:\n",
    "    for i in num:\n",
    "        a+=1\n",
    "    x=False\n",
    "print(\"Length of {} is : {}\".format(num,a))"
   ]
  },
  {
   "cell_type": "markdown",
   "id": "8ad281ea",
   "metadata": {},
   "source": [
    "For Loop"
   ]
  },
  {
   "cell_type": "code",
   "execution_count": 8,
   "id": "189319b5",
   "metadata": {},
   "outputs": [
    {
     "name": "stdout",
     "output_type": "stream",
     "text": [
      "Please provide any number here : 75869\n",
      "Length of 75869 is : 5\n"
     ]
    }
   ],
   "source": [
    "num=input(\"Please provide any number here : \")\n",
    "a=0\n",
    "for i in num:\n",
    "    a+=1\n",
    "print(\"Length of {} is : {}\".format(num,a))  "
   ]
  },
  {
   "cell_type": "markdown",
   "id": "6e288cac",
   "metadata": {},
   "source": [
    "# 5) Write a Python program to guess a number between 1 to 6"
   ]
  },
  {
   "cell_type": "markdown",
   "id": "c40965fb",
   "metadata": {},
   "source": [
    "while Loop"
   ]
  },
  {
   "cell_type": "code",
   "execution_count": 10,
   "id": "f363340a",
   "metadata": {},
   "outputs": [
    {
     "name": "stdout",
     "output_type": "stream",
     "text": [
      "Please provide any number here : 2\n",
      "Well guessed!\n"
     ]
    }
   ],
   "source": [
    "num=int(input(\"Please provide any number here : \"))\n",
    "from random import shuffle\n",
    "dice=[1,2,3,4,5,6]\n",
    "shuffle(dice)\n",
    "x=True\n",
    "while x:\n",
    "    if dice[0]==num:\n",
    "        print(\"Well guessed!\")\n",
    "        x=False\n",
    "    else:\n",
    "        num=int(input(\"Please provide any number here : \"))\n",
    "        continue"
   ]
  },
  {
   "cell_type": "markdown",
   "id": "a43935fa",
   "metadata": {},
   "source": [
    "For Loop"
   ]
  },
  {
   "cell_type": "code",
   "execution_count": 14,
   "id": "a0199ad7",
   "metadata": {},
   "outputs": [
    {
     "name": "stdout",
     "output_type": "stream",
     "text": [
      "Please provide any number here : 1\n",
      "Please provide any number here : 2\n",
      "Please provide any number here : 3\n",
      "Please provide any number here : 4\n",
      "Good Guess\n"
     ]
    }
   ],
   "source": [
    "num=int(input(\"Please provide any number here : \"))\n",
    "from random import shuffle\n",
    "dice=[1,2,3,4,5,6]\n",
    "shuffle(dice)\n",
    "for i in dice:\n",
    "    if dice[0]==num:\n",
    "        print(\"Good Guess\")\n",
    "        break\n",
    "    else:\n",
    "        num=int(input(\"Please provide any number here : \"))\n",
    "        continue"
   ]
  },
  {
   "cell_type": "markdown",
   "id": "38f71559",
   "metadata": {},
   "source": [
    "# 6) Write a Python program which iterates the integers from 1 to 60. For multiples of three print \"Fizz\" instead of the number and for the multiples of five print \"Buzz\". For numbers which are multiples of both three and five print \"FizzBuzz\"."
   ]
  },
  {
   "cell_type": "markdown",
   "id": "1c7d02fb",
   "metadata": {},
   "source": [
    "For Loop"
   ]
  },
  {
   "cell_type": "code",
   "execution_count": 16,
   "id": "382d8d41",
   "metadata": {},
   "outputs": [
    {
     "name": "stdout",
     "output_type": "stream",
     "text": [
      "[1, 2, 'Fizz', 4, 'Buzz', 'Fizz', 7, 8, 'Fizz', 'Buzz', 11, 'Fizz', 13, 14, 'FizzBuzz', 16, 17, 'Fizz', 19, 'Buzz', 'Fizz', 22, 23, 'Fizz', 'Buzz', 26, 'Fizz', 28, 29, 'FizzBuzz', 31, 32, 'Fizz', 34, 'Buzz', 'Fizz', 37, 38, 'Fizz', 'Buzz', 41, 'Fizz', 43, 44, 'FizzBuzz', 46, 47, 'Fizz', 49, 'Buzz', 'Fizz', 52, 53, 'Fizz', 'Buzz', 56, 'Fizz', 58, 59, 'FizzBuzz']\n"
     ]
    }
   ],
   "source": [
    "a=[]\n",
    "for num in range(1,61):\n",
    "    if num%3==0 and num%5==0:\n",
    "        a.append(\"FizzBuzz\")\n",
    "    elif num%3==0:\n",
    "        a.append(\"Fizz\")\n",
    "    elif num%5==0:\n",
    "        a.append(\"Buzz\")\n",
    "    else:\n",
    "        a.append(num)\n",
    "print(a)"
   ]
  },
  {
   "cell_type": "markdown",
   "id": "5e083921",
   "metadata": {},
   "source": [
    "While Loop"
   ]
  },
  {
   "cell_type": "code",
   "execution_count": 17,
   "id": "83798015",
   "metadata": {},
   "outputs": [
    {
     "name": "stdout",
     "output_type": "stream",
     "text": [
      "[1, 2, 'Fizz', 4, 'Buzz', 'Fizz', 7, 8, 'Fizz', 'Buzz', 11, 'Fizz', 13, 14, 'FizzBuzz', 16, 17, 'Fizz', 19, 'Buzz', 'Fizz', 22, 23, 'Fizz', 'Buzz', 26, 'Fizz', 28, 29, 'FizzBuzz', 31, 32, 'Fizz', 34, 'Buzz', 'Fizz', 37, 38, 'Fizz', 'Buzz', 41, 'Fizz', 43, 44, 'FizzBuzz', 46, 47, 'Fizz', 49, 'Buzz', 'Fizz', 52, 53, 'Fizz', 'Buzz', 56, 'Fizz', 58, 59, 'FizzBuzz']\n"
     ]
    }
   ],
   "source": [
    "x=True\n",
    "a=[]\n",
    "while x:\n",
    "    for num in range(1,61):\n",
    "        if num%3==0 and num%5==0:\n",
    "            a.append(\"FizzBuzz\")\n",
    "        elif num%3==0:\n",
    "            a.append(\"Fizz\")\n",
    "        elif num%5==0:\n",
    "            a.append(\"Buzz\")\n",
    "        else:\n",
    "            a.append(num)\n",
    "    x=False\n",
    "print(a)"
   ]
  },
  {
   "cell_type": "markdown",
   "id": "c26f9a97",
   "metadata": {},
   "source": [
    "# 7) Write a Python program that accepts a string and calculate the number of digits and letters\n"
   ]
  },
  {
   "cell_type": "markdown",
   "id": "4264275e",
   "metadata": {},
   "source": [
    "For Loop"
   ]
  },
  {
   "cell_type": "code",
   "execution_count": 24,
   "id": "558911df",
   "metadata": {},
   "outputs": [
    {
     "name": "stdout",
     "output_type": "stream",
     "text": [
      "Type your input here : Python3.2\n",
      "Digits in Python3.2 : 2\n",
      "Letters in Python3.2 : 6\n"
     ]
    }
   ],
   "source": [
    "string=input(\"Type your input here : \")\n",
    "digit=0\n",
    "letters=0\n",
    "for elements in string:\n",
    "    if elements.isdigit():\n",
    "        digit+=1\n",
    "    elif elements.isalpha():\n",
    "        letters+=1\n",
    "print(\"Digits in {} : {}\".format(string,digit))\n",
    "print(\"Letters in {} : {}\".format(string,letters))"
   ]
  },
  {
   "cell_type": "markdown",
   "id": "d5724905",
   "metadata": {},
   "source": [
    "While Loop"
   ]
  },
  {
   "cell_type": "code",
   "execution_count": 25,
   "id": "eed3b5b2",
   "metadata": {},
   "outputs": [
    {
     "name": "stdout",
     "output_type": "stream",
     "text": [
      "Type your input here : python 3.2\n",
      "Digits in python 3.2 : 2\n",
      "Letters in python 3.2 : 6\n"
     ]
    }
   ],
   "source": [
    "string=input(\"Type your input here : \")\n",
    "digit=0\n",
    "letters=0\n",
    "x=True\n",
    "while x:\n",
    "    for elements in string:\n",
    "        if elements.isdigit():\n",
    "            digit+=1\n",
    "        elif elements.isalpha():\n",
    "            letters+=1\n",
    "    x=False\n",
    "print(\"Digits in {} : {}\".format(string,digit))\n",
    "print(\"Letters in {} : {}\".format(string,letters))"
   ]
  },
  {
   "cell_type": "markdown",
   "id": "c06bb1d6",
   "metadata": {},
   "source": [
    "# 8) Write a Python program to check the validity of password input by users. \n",
    "+ Validation:\n",
    "+ At least 1 letter between [a-z] and 1 letter between [A-Z]. \n",
    "+ At least 1 number between [0-9]. \n",
    "+ At least 1 character from [symbols]\n",
    "+ Minimum length 6 characters.\n",
    "+ Maximum length 16 characters."
   ]
  },
  {
   "cell_type": "code",
   "execution_count": 8,
   "id": "4c587738",
   "metadata": {},
   "outputs": [
    {
     "name": "stdout",
     "output_type": "stream",
     "text": [
      "Teja9841@\n",
      "OK\n",
      "You have given valid Password.\n"
     ]
    }
   ],
   "source": [
    "password=input()\n",
    "lowalpha=0\n",
    "upalpha=0\n",
    "num=0\n",
    "sym=0\n",
    "symbol=[\"@\",\"$\",\"#\"]\n",
    "for elements in password:\n",
    "    if elements.isalpha():\n",
    "        if elements==elements.upper():\n",
    "            upalpha+=1\n",
    "        elif elements==elements.lower():\n",
    "            lowalpha+=1\n",
    "    elif elements in symbol:\n",
    "        sym+=1\n",
    "    elif int(elements) in range(0,10):\n",
    "        num+=1\n",
    "if len(password)<6:\n",
    "    print(\"Your Password must contain atleast 6 charecters\")\n",
    "elif len(password)>16:\n",
    "    print(\"Your Password length is greater than limits, Please reduce some charecters\")\n",
    "elif num==0:\n",
    "    print(\"Please include numbers inside your password\")\n",
    "elif upalpha==0:\n",
    "    print(\"Please include upperr case letters inside your password\")\n",
    "elif lowalpha==0:\n",
    "    print(\"Please include lower case letters inside your password\")\n",
    "else:\n",
    "    print(\"OK\\nYou have given valid Password.\")"
   ]
  },
  {
   "cell_type": "markdown",
   "id": "9e163402",
   "metadata": {},
   "source": [
    "# 9) Write a program in Python to reverse a word by using while loop"
   ]
  },
  {
   "cell_type": "code",
   "execution_count": 15,
   "id": "f6a912c7",
   "metadata": {},
   "outputs": [
    {
     "name": "stdout",
     "output_type": "stream",
     "text": [
      "Anything you type here will be reversed :\n",
      "---------->  C H I C K E N\n",
      "N E K C I H C  <----------\n"
     ]
    }
   ],
   "source": [
    "print(\"Anything you type here will be reversed :\")\n",
    "word=input(\"---------->  \")\n",
    "length=len(word)\n",
    "reverse=\"\"\n",
    "while length > 0:\n",
    "    reverse+=word[length-1]\n",
    "    length=length-1\n",
    "print(\"{}  <----------\".format(reverse))"
   ]
  },
  {
   "cell_type": "markdown",
   "id": "176731f7",
   "metadata": {},
   "source": [
    "# 10) Write a program which takes 10 integers as input using loop and print their average value on the screen"
   ]
  },
  {
   "cell_type": "markdown",
   "id": "1b77bd27",
   "metadata": {},
   "source": [
    "While Loop"
   ]
  },
  {
   "cell_type": "code",
   "execution_count": 13,
   "id": "3680a50a",
   "metadata": {},
   "outputs": [
    {
     "name": "stdout",
     "output_type": "stream",
     "text": [
      "Please enter 10 values to findout their average :\n",
      "1\n",
      "2\n",
      "3\n",
      "4\n",
      "5\n",
      "6\n",
      "7\n",
      "8\n",
      "9\n",
      "10\n",
      "The average of given numbers = 5.5\n"
     ]
    }
   ],
   "source": [
    "print(\"Please enter 10 values to findout their average :\")\n",
    "a=[]\n",
    "x=True\n",
    "while x:\n",
    "    num=int(input())\n",
    "    a.append(num)\n",
    "    if len(a)==10:\n",
    "        x=False\n",
    "    else:\n",
    "        continue\n",
    "total=sum(a)\n",
    "print(\"The average of given numbers = {}\".format(total/len(a)))"
   ]
  },
  {
   "cell_type": "markdown",
   "id": "80d84e20",
   "metadata": {},
   "source": [
    "For Loop"
   ]
  },
  {
   "cell_type": "code",
   "execution_count": 14,
   "id": "0132ac33",
   "metadata": {},
   "outputs": [
    {
     "name": "stdout",
     "output_type": "stream",
     "text": [
      "Please enter 10 values to findout their average :\n",
      "1\n",
      "2\n",
      "3\n",
      "4\n",
      "5\n",
      "6\n",
      "7\n",
      "8\n",
      "9\n",
      "10\n",
      "The average of given numbers = 5.5\n"
     ]
    }
   ],
   "source": [
    "print(\"Please enter 10 values to findout their average :\")\n",
    "a=[]\n",
    "for i in range(0,10):\n",
    "    num=int(input())\n",
    "    a.append(num)\n",
    "total=sum(a)\n",
    "print(\"The average of given numbers = {}\".format(total/len(a)))"
   ]
  },
  {
   "cell_type": "markdown",
   "id": "8ab18f7b",
   "metadata": {},
   "source": [
    "# 11) Write a program which takes integer inputs from user until he/she presses “q” (Ask to press q to quit after every integer input). Print average and product of all numbers.\n"
   ]
  },
  {
   "cell_type": "code",
   "execution_count": 42,
   "id": "e4c2c9ee",
   "metadata": {},
   "outputs": [
    {
     "name": "stdout",
     "output_type": "stream",
     "text": [
      "Please enter numbers in the provided boxes findout their average and the product :\n",
      "give a number : 22\n",
      "if you want to exit press - q\n",
      "give a number : 33\n",
      "if you want to exit press - q\n",
      "give a number : 44\n",
      "if you want to exit press - q\n",
      "give a number : q\n",
      "\n",
      "Product = 31944\n",
      "Average = 33.0\n"
     ]
    }
   ],
   "source": [
    "print(\"Please enter numbers in the provided boxes findout their average and the product :\")\n",
    "numbers=[]\n",
    "newnum=[]\n",
    "product=1\n",
    "while True:\n",
    "    num=input(\"give a number : \")\n",
    "    if num==\"q\":\n",
    "        break\n",
    "    print(\"if you want to exit press - q\")\n",
    "    numbers.append(num)\n",
    "for j in numbers:\n",
    "    a=int(j)\n",
    "    newnum.append(a)\n",
    "for i in newnum:\n",
    "    product=product*i\n",
    "total=sum(newnum)\n",
    "average=total/len(newnum)\n",
    "print(\"\\nProduct = {}\".format(product))\n",
    "print(\"Average = {}\".format(average))"
   ]
  },
  {
   "cell_type": "markdown",
   "id": "4f283a2d",
   "metadata": {},
   "source": [
    "# 12) Write a Python program which will remove all digits or any other characters from the string except alphabets"
   ]
  },
  {
   "cell_type": "markdown",
   "id": "c2c465cf",
   "metadata": {},
   "source": [
    "For Loop"
   ]
  },
  {
   "cell_type": "code",
   "execution_count": 49,
   "id": "b5dba497",
   "metadata": {},
   "outputs": [
    {
     "name": "stdout",
     "output_type": "stream",
     "text": [
      "Type your input here : asd12.asd22\n",
      "asdasd\n"
     ]
    }
   ],
   "source": [
    "name=input(\"Type your input here : \")\n",
    "new=\"\"\n",
    "for letters in name:\n",
    "    if letters.isalpha():\n",
    "        new+=letters\n",
    "    else:\n",
    "        continue\n",
    "print(new)"
   ]
  },
  {
   "cell_type": "markdown",
   "id": "9d455eae",
   "metadata": {},
   "source": [
    "While Loop"
   ]
  },
  {
   "cell_type": "code",
   "execution_count": 50,
   "id": "ff1bf819",
   "metadata": {},
   "outputs": [
    {
     "name": "stdout",
     "output_type": "stream",
     "text": [
      "Type your input here : asd12.asd22\n",
      "asdasd\n"
     ]
    }
   ],
   "source": [
    "name=input(\"Type your input here : \")\n",
    "new=\"\"\n",
    "x=True\n",
    "while x:\n",
    "    for letters in name:\n",
    "        if letters.isalpha():\n",
    "            new+=letters\n",
    "        else:\n",
    "            continue\n",
    "    x=False\n",
    "print(new)"
   ]
  },
  {
   "cell_type": "markdown",
   "id": "d0114e7e",
   "metadata": {},
   "source": [
    "# 13) Write a python program to find the sum of all even numbers from 0 to 10\n"
   ]
  },
  {
   "cell_type": "markdown",
   "id": "2315f839",
   "metadata": {},
   "source": [
    "For Loop"
   ]
  },
  {
   "cell_type": "code",
   "execution_count": 52,
   "id": "61d984c7",
   "metadata": {},
   "outputs": [
    {
     "name": "stdout",
     "output_type": "stream",
     "text": [
      "Sum of all even numbers from 0 to 10 are :- 30\n"
     ]
    }
   ],
   "source": [
    "total=0\n",
    "for num in range(0,11):\n",
    "    if num%2==0:\n",
    "        total+=num\n",
    "print(\"Sum of all even numbers from 0 to 10 are :-. {}\".format(total))"
   ]
  },
  {
   "cell_type": "markdown",
   "id": "67ff071e",
   "metadata": {},
   "source": [
    "While Loop"
   ]
  },
  {
   "cell_type": "code",
   "execution_count": 1,
   "id": "7a039bc5",
   "metadata": {},
   "outputs": [
    {
     "name": "stdout",
     "output_type": "stream",
     "text": [
      "Sum of all even numbers from 0 to 10 are :-. 30\n"
     ]
    }
   ],
   "source": [
    "total=0\n",
    "x=True\n",
    "while x:\n",
    "    for num in range(0,11):\n",
    "        if num%2==0:\n",
    "            total+=num\n",
    "    x=False\n",
    "print(\"Sum of all even numbers from 0 to 10 are :-. {}\".format(total))    \n"
   ]
  },
  {
   "cell_type": "markdown",
   "id": "bbda2097",
   "metadata": {},
   "source": [
    "# 14) Write a python program which will accept a digit and print All the numbers before it till 0\n"
   ]
  },
  {
   "cell_type": "code",
   "execution_count": 6,
   "id": "377eef74",
   "metadata": {},
   "outputs": [
    {
     "name": "stdout",
     "output_type": "stream",
     "text": [
      "Enter a number, so that you can get all the numbers which are before it till zero.\n",
      "Provide a number : 6\n",
      "6\n",
      "5\n",
      "4\n",
      "3\n",
      "2\n",
      "1\n",
      "0\n"
     ]
    }
   ],
   "source": [
    "print(\"Enter a number, so that you can get all the numbers which are before it till zero.\")\n",
    "number=int(input(\"Provide a number : \"))\n",
    "\n",
    "while number>=0:\n",
    "    print(number)\n",
    "    number-=1\n",
    "    "
   ]
  },
  {
   "cell_type": "markdown",
   "id": "7d5ba318",
   "metadata": {},
   "source": [
    "# 15) Create a dynamic calculator which will run continuasly till you press “c”\n"
   ]
  },
  {
   "cell_type": "markdown",
   "id": "6b8a5a72",
   "metadata": {},
   "source": [
    "Dynamic Calculator :"
   ]
  },
  {
   "cell_type": "code",
   "execution_count": 8,
   "id": "a5b0be29",
   "metadata": {},
   "outputs": [
    {
     "name": "stdout",
     "output_type": "stream",
     "text": [
      "num 1 : 5\n",
      "choose any symbol from +,-,*,/ : +\n",
      "num 2 : 6\n",
      "5 + 6 = 11\n",
      "Press c to close : c\n"
     ]
    }
   ],
   "source": [
    "a=int(input(\"num 1 : \"))\n",
    "x=input(\"choose any symbol from +,-,*,/ : \")\n",
    "b=int(input(\"num 2 : \"))\n",
    "while True:\n",
    "    if x==\"+\":\n",
    "        print(\"{} {} {} = {}\".format(a,x,b,a+b))\n",
    "    elif x==\"-\":\n",
    "        print(\"{} {} {} = {}\".format(a,x,b,a-b))\n",
    "    elif x==\"*\":\n",
    "        print(\"{} {} {} = {}\".format(a,x,b,a*b))\n",
    "    elif x==\"/\":\n",
    "        print(\"{} {} {} = {}\".format(a,x,b,a/b))\n",
    "    new=input(\"Press c to close : \")\n",
    "    if new==\"c\" or new==\"C\":\n",
    "        break"
   ]
  }
 ],
 "metadata": {
  "kernelspec": {
   "display_name": "Python 3 (ipykernel)",
   "language": "python",
   "name": "python3"
  },
  "language_info": {
   "codemirror_mode": {
    "name": "ipython",
    "version": 3
   },
   "file_extension": ".py",
   "mimetype": "text/x-python",
   "name": "python",
   "nbconvert_exporter": "python",
   "pygments_lexer": "ipython3",
   "version": "3.9.7"
  }
 },
 "nbformat": 4,
 "nbformat_minor": 5
}
